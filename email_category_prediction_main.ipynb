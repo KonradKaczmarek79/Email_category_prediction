{
 "cells": [
  {
   "cell_type": "markdown",
   "id": "9ccb61de",
   "metadata": {},
   "source": [
    "# Email category prediction"
   ]
  },
  {
   "cell_type": "code",
   "execution_count": 1,
   "id": "af77cb32",
   "metadata": {},
   "outputs": [],
   "source": [
    "# import supporting functions from python file\n",
    "\n",
    "import supporting_modules.supp_functions as sfn"
   ]
  },
  {
   "cell_type": "code",
   "execution_count": 2,
   "id": "1ba83c65",
   "metadata": {},
   "outputs": [],
   "source": [
    "# import dataset\n",
    "\n",
    "from sklearn.datasets import fetch_20newsgroups"
   ]
  },
  {
   "cell_type": "markdown",
   "id": "17133adf",
   "metadata": {},
   "source": [
    "### Fetch the training data and the test ones"
   ]
  },
  {
   "cell_type": "code",
   "execution_count": 3,
   "id": "826b0889",
   "metadata": {},
   "outputs": [],
   "source": [
    "train_data = fetch_20newsgroups(subset=\"train\")\n",
    "test_data = fetch_20newsgroups(subset=\"test\")"
   ]
  },
  {
   "cell_type": "code",
   "execution_count": null,
   "id": "6cffe527",
   "metadata": {},
   "outputs": [],
   "source": []
  }
 ],
 "metadata": {
  "kernelspec": {
   "display_name": "Python 3 (ipykernel)",
   "language": "python",
   "name": "python3"
  },
  "language_info": {
   "codemirror_mode": {
    "name": "ipython",
    "version": 3
   },
   "file_extension": ".py",
   "mimetype": "text/x-python",
   "name": "python",
   "nbconvert_exporter": "python",
   "pygments_lexer": "ipython3",
   "version": "3.10.3"
  }
 },
 "nbformat": 4,
 "nbformat_minor": 5
}
