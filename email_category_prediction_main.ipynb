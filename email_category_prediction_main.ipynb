{
 "cells": [
  {
   "cell_type": "markdown",
   "id": "9ccb61de",
   "metadata": {},
   "source": [
    "# Email category prediction"
   ]
  },
  {
   "cell_type": "code",
   "execution_count": 1,
   "id": "af77cb32",
   "metadata": {},
   "outputs": [],
   "source": [
    "# import supporting functions from python file\n",
    "\n",
    "import supporting_modules.supp_functions as sfn\n",
    "import string"
   ]
  },
  {
   "cell_type": "code",
   "execution_count": 2,
   "id": "1ba83c65",
   "metadata": {},
   "outputs": [],
   "source": [
    "# import dataset\n",
    "\n",
    "from sklearn.datasets import fetch_20newsgroups"
   ]
  },
  {
   "cell_type": "markdown",
   "id": "17133adf",
   "metadata": {},
   "source": [
    "### Fetch the training data and the test ones"
   ]
  },
  {
   "cell_type": "code",
   "execution_count": 3,
   "id": "826b0889",
   "metadata": {},
   "outputs": [],
   "source": [
    "train_data = fetch_20newsgroups(subset=\"train\")\n",
    "test_data = fetch_20newsgroups(subset=\"test\")"
   ]
  },
  {
   "cell_type": "code",
   "execution_count": 4,
   "id": "6cffe527",
   "metadata": {},
   "outputs": [
    {
     "data": {
      "text/plain": [
       "(\"['alt.atheism', 'comp.graphics', 'comp.os.ms-windows.misc', 'comp.sys.ibm.pc.hardware', 'comp.sys.mac.hardware', 'comp.windows.x', 'misc.forsale', 'rec.autos', 'rec.motorcycles', 'rec.sport.baseball', 'rec.sport.hockey', 'sci.crypt', 'sci.electronics', 'sci.med', 'sci.space', 'soc.religion.christian', 'talk.politics.guns', 'talk.politics.mideast', 'talk.politics.misc', 'talk.religion.misc']\",\n",
       " '______________________________',\n",
       " 'Number of categories: 20')"
      ]
     },
     "execution_count": 4,
     "metadata": {},
     "output_type": "execute_result"
    }
   ],
   "source": [
    "# let's look what categories we have in dataset and how many are they\n",
    "\n",
    "f\"{train_data.target_names}\", \"_\" * 30, f\"Number of categories: {len(train_data.target_names)}\""
   ]
  },
  {
   "cell_type": "code",
   "execution_count": 5,
   "id": "55359ea7-2112-4a6c-bb3e-e6c55e4e8c7c",
   "metadata": {},
   "outputs": [
    {
     "name": "stdout",
     "output_type": "stream",
     "text": [
      "{0: 480, 1: 584, 2: 591, 3: 590, 4: 578, 5: 593, 6: 585, 7: 594, 8: 598, 9: 597, 10: 600, 11: 595, 12: 591, 13: 594, 14: 593, 15: 599, 16: 546, 17: 564, 18: 465, 19: 377}\n"
     ]
    },
    {
     "data": {
      "text/plain": [
       "(11314, 223, 135)"
      ]
     },
     "execution_count": 5,
     "metadata": {},
     "output_type": "execute_result"
    }
   ],
   "source": [
    "# the differences between the categories \n",
    "# comparison diffs between the most numerous and the least numerous grpup\n",
    "# różnica między naliczniejszą i najmniej liczną kategorią\n",
    "\n",
    "cnt_dict = {0:0, 1:0, 2:0, 3:0, 4:0, 5:0, 6:0, 7:0, 8:0, 9:0, \n",
    "            10:0, 11:0, 12:0, 13:0, 14:0, 15:0, 16:0, 17:0, 18:0, 19:0}\n",
    "\n",
    "for x in train_data.target:\n",
    "    cnt_dict[x] += 1\n",
    "as_list = list(cnt_dict.values())\n",
    "print(cnt_dict) \n",
    "sum(cnt_dict.values()), sorted(as_list)[-1] - sorted(as_list)[0], sorted(as_list)[-1] - sorted(as_list)[1]"
   ]
  },
  {
   "cell_type": "code",
   "execution_count": 6,
   "id": "95436df3-73b3-4a1f-86d9-637664bfea72",
   "metadata": {},
   "outputs": [
    {
     "data": {
      "text/plain": [
       "(11314, 7532, 0.3996604053910644)"
      ]
     },
     "execution_count": 6,
     "metadata": {},
     "output_type": "execute_result"
    }
   ],
   "source": [
    "# lets look how many emails in both datasets are (train, test)\n",
    "# the porportions are like ~60% train / ~40% test\n",
    "\n",
    "len(train_data.data), len(test_data.data), \\\n",
    "len(test_data.data) / (len(train_data.data) + len(test_data.data))"
   ]
  },
  {
   "cell_type": "code",
   "execution_count": 7,
   "id": "838e4656-9f52-41f2-b1e2-ad78bfde04af",
   "metadata": {},
   "outputs": [
    {
     "name": "stdout",
     "output_type": "stream",
     "text": [
      "10193\n",
      "From: noring@netcom.com (Jon Noring)\n",
      "Subject: Re: Should Christians fight? / Justifiable war\n",
      "Organization: Netcom Online Communications Services (408-241-9760 login: guest)\n",
      "Lines: 35\n",
      "\n",
      "In article gideon@otago.ac.nz (Gideon King) writes:\n",
      "\n",
      ">I posted this a couple of weeks ago, and it doesn't seem to have appeared  \n",
      ">on the newsgroup, and I haven't had a reply from the moderator. We were  \n",
      ">having intermittent problems with our mail at the time. Please excuse me  \n",
      ">if you have seen this before...\n",
      ">\n",
      ">Should Christians fight?\n",
      ">\n",
      ">Last week Alastair posted some questions about fighting, and whether there  \n",
      ">are such things as \"justifiable wars\". I have started looking into these  \n",
      ">things and have jotted down my findings as I go. I haven't answered all  \n",
      ">his questions yet, and I know what I have here is on a slightly different  \n",
      ">tack, but possibly I'll be able to get into it more deeply later, and post  \n",
      ">some more info soon.\n",
      "\n",
      "May I suggest the book: \"Ethics\" by Dr. Norm Geisler, of Dallas Theological\n",
      "Seminary.  In it, he goes over all the arguments pro and con and in-between,\n",
      "and comes up with a very reasonable answer.  If I have time, and there is\n",
      "enough interest, I may post his position.\n",
      "\n",
      "Jon Noring\n",
      "\n",
      "-- \n",
      "\n",
      "Charter Member --->>>  INFJ Club.\n",
      "\n",
      "If you're dying to know what INFJ means, be brave, e-mail me, I'll send info.\n",
      "=============================================================================\n",
      "| Jon Noring          | noring@netcom.com        |                          |\n",
      "| JKN International   | IP    : 192.100.81.100   | FRED'S GOURMET CHOCOLATE |\n",
      "| 1312 Carlton Place  | Phone : (510) 294-8153   | CHIPS - World's Best!    |\n",
      "| Livermore, CA 94550 | V-Mail: (510) 417-4101   |                          |\n",
      "=============================================================================\n",
      "Who are you?  Read alt.psychology.personality!  That's where the action is.\n",
      "\n"
     ]
    }
   ],
   "source": [
    "# lets look how the emails looks like\n",
    "import random\n",
    "\n",
    "# randomly pick an example of an email and show it: \n",
    "\n",
    "email_no = random.randint(0, 11314)\n",
    "print(email_no)\n",
    "print(train_data.data[email_no])\n",
    "new_txt = train_data.data[email_no]"
   ]
  },
  {
   "cell_type": "code",
   "execution_count": 8,
   "id": "36e3159a-cf46-4cb5-a990-0dffd418a63c",
   "metadata": {},
   "outputs": [],
   "source": [
    "import re\n",
    "# [re.sub(\"<.*?>\", \"\", article) for article in articles]\n",
    "\n",
    "def clear_emails(txt: str):\n",
    "    return re.sub(r\"\\S*@\\S*\\s?\", \"\", txt)\n",
    "    \n",
    "cleaner_txt = clear_emails(new_txt).lower()"
   ]
  },
  {
   "cell_type": "code",
   "execution_count": 9,
   "id": "fc3f467a-49ad-4c99-ad6e-9389097cbe02",
   "metadata": {},
   "outputs": [
    {
     "data": {
      "text/plain": [
       "'from: (jon noring)\\nsubject: re: should christians fight? / justifiable war\\norganization: netcom online communications services login: guest)\\nlines: \\nin article (gideon king) writes:\\n\\n>i posted this a couple of weeks ago, and it doesn\\'t seem to have appeared  \\n>on the newsgroup, and i haven\\'t had a reply from the moderator. we were  \\n>having intermittent problems with our mail at the time. please excuse me  \\n>if you have seen this before...\\n>\\n>should christians fight?\\n>\\n>last week alastair posted some questions about fighting, and whether there  \\n>are such things as \"justifiable wars\". i have started looking into these  \\n>things and have jotted down my findings as i go. i haven\\'t answered all  \\n>his questions yet, and i know what i have here is on a slightly different  \\n>tack, but possibly i\\'ll be able to get into it more deeply later, and post  \\n>some more info soon.\\n\\nmay i suggest the book: \"ethics\" by dr. norm geisler, of dallas theological\\nseminary.  in it, he goes over all the arguments pro and con and in-between,\\nand comes up with a very reasonable answer.  if i have time, and there is\\nenough interest, i may post his position.\\n\\njon noring\\n\\n-- \\n\\ncharter member --->>>  infj club.\\n\\nif you\\'re dying to know what infj means, be brave, e-mail me, i\\'ll send info.\\n=============================================================================\\n| jon noring          |        |                          |\\n| jkn international   | ip    :   | fred\\'s gourmet chocolate |\\n| carlton place  | phone :   | chips - world\\'s best!    |\\n| livermore, ca | v-mail:   |                          |\\n=============================================================================\\nwho are you?  read alt.psychology.personality!  that\\'s where the action is.\\n'"
      ]
     },
     "execution_count": 9,
     "metadata": {},
     "output_type": "execute_result"
    }
   ],
   "source": [
    "# remove digits\n",
    "\n",
    "def clear_txt_with_digits(txt: str): \n",
    "    return re.sub(r\"\\S*[0-9]+\\S*\\s?\", \"\", txt)\n",
    "\n",
    "cleaner_txt = clear_txt_with_digits(cleaner_txt)\n",
    "cleaner_txt"
   ]
  },
  {
   "cell_type": "code",
   "execution_count": 10,
   "id": "e0008409-ba9e-4b21-ad52-051140c207ec",
   "metadata": {},
   "outputs": [],
   "source": [
    "# remove most common header components\n",
    "\n",
    "def is_header_tag_in(tags: tuple, txt: str): \n",
    "    # check if header tag is in sentence or not\n",
    "    for tag in tags:\n",
    "        if tag in txt.lower():\n",
    "            return True\n",
    "    return False\n",
    "\n",
    "def clear_emails(txt: str):\n",
    "    return re.sub(r\"\\S*@\\S*\\s?\", \"\", txt)\n",
    "\n",
    "# create dict where keys are symbols from '!\"#$%&\\'()*+,-./:;<=>?@[\\\\]^_`{|}~'\n",
    "# with None as vlues\n",
    "table = str.maketrans({key: None for key in string.punctuation})\n",
    "\n",
    "def clean_email_content(email_text: str, table: dict = table): \n",
    "    \n",
    "    header_tags = (\"from:\", \"subject:\", \"lines:\", \"organization:\", \"distribution\", \\\n",
    "               \"nntp-posting-host:\", \"reply-to:\", \"keywords:\", \"summary:\", \"re:\", \"expires:\", \n",
    "                  \"article-i.d.:\", \"newsreader:\")\n",
    "    \n",
    "    # clear all rows that start with word from header_tags tuple\n",
    "    email_text = \" \".join([x for x in email_text.split(\"\\n\") \\\n",
    "                           if not is_header_tag_in(header_tags, x)]).\\\n",
    "                    strip()\n",
    "    \n",
    "    # remove e-mail addresses from content\n",
    "    # then change all character to lower case\n",
    "    email_text = clear_emails(email_text).lower()\n",
    "    \n",
    "    # clear words with digits inside\n",
    "    email_text = clear_txt_with_digits(email_text)\n",
    "    \n",
    "    # clean whiespaces except space\n",
    "    email_text = re.sub(r'[^\\S ]+', '', email_text)   \n",
    "    \n",
    "    email_text = email_text.translate(table)\n",
    "    \n",
    "    return email_text"
   ]
  },
  {
   "cell_type": "code",
   "execution_count": null,
   "id": "463fea19-d21d-4650-ad16-57094b5def26",
   "metadata": {},
   "outputs": [],
   "source": []
  }
 ],
 "metadata": {
  "kernelspec": {
   "display_name": "Python 3 (ipykernel)",
   "language": "python",
   "name": "python3"
  },
  "language_info": {
   "codemirror_mode": {
    "name": "ipython",
    "version": 3
   },
   "file_extension": ".py",
   "mimetype": "text/x-python",
   "name": "python",
   "nbconvert_exporter": "python",
   "pygments_lexer": "ipython3",
   "version": "3.10.12"
  }
 },
 "nbformat": 4,
 "nbformat_minor": 5
}
