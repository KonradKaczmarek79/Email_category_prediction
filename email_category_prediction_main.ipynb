{
 "cells": [
  {
   "cell_type": "markdown",
   "id": "9ccb61de",
   "metadata": {},
   "source": [
    "# Email category prediction"
   ]
  },
  {
   "cell_type": "code",
   "execution_count": 1,
   "id": "af77cb32",
   "metadata": {},
   "outputs": [],
   "source": [
    "# import supporting functions from python file\n",
    "import warnings\n",
    "warnings.filterwarnings(\"ignore\", category=FutureWarning, module=\"pandas\")\n",
    "\n",
    "import seaborn as sns\n",
    "import pandas as pd\n",
    "import numpy as np\n",
    "\n",
    "import supporting_modules.supp_functions as sfn\n",
    "import string"
   ]
  },
  {
   "cell_type": "code",
   "execution_count": 2,
   "id": "1ba83c65",
   "metadata": {},
   "outputs": [],
   "source": [
    "# import dataset\n",
    "\n",
    "from sklearn.datasets import fetch_20newsgroups"
   ]
  },
  {
   "cell_type": "markdown",
   "id": "17133adf",
   "metadata": {},
   "source": [
    "## Fetch the training data and the test ones"
   ]
  },
  {
   "cell_type": "code",
   "execution_count": 3,
   "id": "826b0889",
   "metadata": {},
   "outputs": [],
   "source": [
    "train_data = fetch_20newsgroups(subset=\"train\")\n",
    "test_data = fetch_20newsgroups(subset=\"test\")"
   ]
  },
  {
   "cell_type": "markdown",
   "id": "441a8e22-2d54-410d-8e23-69fb492b96cc",
   "metadata": {},
   "source": [
    "### Checking the size of each category"
   ]
  },
  {
   "cell_type": "code",
   "execution_count": 4,
   "id": "6cffe527",
   "metadata": {},
   "outputs": [
    {
     "data": {
      "text/plain": [
       "(\"['alt.atheism', 'comp.graphics', 'comp.os.ms-windows.misc', 'comp.sys.ibm.pc.hardware', 'comp.sys.mac.hardware', 'comp.windows.x', 'misc.forsale', 'rec.autos', 'rec.motorcycles', 'rec.sport.baseball', 'rec.sport.hockey', 'sci.crypt', 'sci.electronics', 'sci.med', 'sci.space', 'soc.religion.christian', 'talk.politics.guns', 'talk.politics.mideast', 'talk.politics.misc', 'talk.religion.misc']\",\n",
       " '______________________________',\n",
       " 'Number of categories: 20')"
      ]
     },
     "execution_count": 4,
     "metadata": {},
     "output_type": "execute_result"
    }
   ],
   "source": [
    "# let's look what categories we have in dataset and how many are they\n",
    "\n",
    "f\"{train_data.target_names}\", \"_\" * 30, f\"Number of categories: {len(train_data.target_names)}\""
   ]
  },
  {
   "cell_type": "code",
   "execution_count": 5,
   "id": "47279f66-0c89-4f13-95e5-a5f1180bd208",
   "metadata": {},
   "outputs": [
    {
     "name": "stderr",
     "output_type": "stream",
     "text": [
      "/home/konrad/Dokumenty/python/github_projects/sages_project/sentiment_analysis_on_movie_reviews/venv/lib/python3.10/site-packages/seaborn/_oldcore.py:1498: FutureWarning: is_categorical_dtype is deprecated and will be removed in a future version. Use isinstance(dtype, CategoricalDtype) instead\n",
      "  if pd.api.types.is_categorical_dtype(vector):\n",
      "/home/konrad/Dokumenty/python/github_projects/sages_project/sentiment_analysis_on_movie_reviews/venv/lib/python3.10/site-packages/seaborn/_oldcore.py:1498: FutureWarning: is_categorical_dtype is deprecated and will be removed in a future version. Use isinstance(dtype, CategoricalDtype) instead\n",
      "  if pd.api.types.is_categorical_dtype(vector):\n",
      "/home/konrad/Dokumenty/python/github_projects/sages_project/sentiment_analysis_on_movie_reviews/venv/lib/python3.10/site-packages/seaborn/_oldcore.py:1498: FutureWarning: is_categorical_dtype is deprecated and will be removed in a future version. Use isinstance(dtype, CategoricalDtype) instead\n",
      "  if pd.api.types.is_categorical_dtype(vector):\n"
     ]
    },
    {
     "data": {
      "image/png": "[encoded data removed]",
      "text/plain": [
       "<Figure size 640x480 with 1 Axes>"
      ]
     },
     "metadata": {},
     "output_type": "display_data"
    }
   ],
   "source": [
    "# show the countplot to see the differences between number of emails for each category\n",
    "\n",
    "labels = pd.DataFrame(train_data.target, columns=[\"label\"])\n",
    "sns.set_theme(style=\"whitegrid\")\n",
    "\n",
    "sns.countplot(data = labels, y = \"label\");"
   ]
  },
  {
   "cell_type": "code",
   "execution_count": 6,
   "id": "55359ea7-2112-4a6c-bb3e-e6c55e4e8c7c",
   "metadata": {},
   "outputs": [
    {
     "name": "stdout",
     "output_type": "stream",
     "text": [
      "count of each category: {0: 480, 1: 584, 2: 591, 3: 590, 4: 578, 5: 593, 6: 585, 7: 594, 8: 598, 9: 597, 10: 600, 11: 595, 12: 591, 13: 594, 14: 593, 15: 599, 16: 546, 17: 564, 18: 465, 19: 377}\n",
      "----------------------------------------------------------------------------------------------------\n",
      "smallest categories count:  [377, 465, 480, 546]\n",
      "highest categories:  [597, 598, 599, 600]\n",
      "591.0\n"
     ]
    }
   ],
   "source": [
    "# the differences between the categories \n",
    "# comparison diffs between the most numerous and the least numerous grpup\n",
    "\n",
    "cnt_dict = {0:0, 1:0, 2:0, 3:0, 4:0, 5:0, 6:0, 7:0, 8:0, 9:0, \n",
    "            10:0, 11:0, 12:0, 13:0, 14:0, 15:0, 16:0, 17:0, 18:0, 19:0}\n",
    "\n",
    "for x in train_data.target:\n",
    "    cnt_dict[x] += 1\n",
    "as_list = list(cnt_dict.values())\n",
    "\n",
    "print(\"count of each category:\", cnt_dict)\n",
    "print(\"--\"*50)\n",
    "print(\"smallest categories count: \", sorted(as_list)[:4])\n",
    "print(\"highest categories: \", sorted(as_list)[-4:])\n",
    "print(np.median(as_list))"
   ]
  },
  {
   "cell_type": "code",
   "execution_count": 7,
   "id": "95436df3-73b3-4a1f-86d9-637664bfea72",
   "metadata": {},
   "outputs": [
    {
     "data": {
      "text/plain": [
       "(11314, 7532, 0.3996604053910644)"
      ]
     },
     "execution_count": 7,
     "metadata": {},
     "output_type": "execute_result"
    }
   ],
   "source": [
    "# lets look how many emails in both datasets are (train, test)\n",
    "# the porportions are like ~60% train / ~40% test\n",
    "\n",
    "len(train_data.data), len(test_data.data), \\\n",
    "len(test_data.data) / (len(train_data.data) + len(test_data.data))"
   ]
  },
  {
   "cell_type": "markdown",
   "id": "8009b1de-816e-4c05-9e2e-fee0d059a97a",
   "metadata": {},
   "source": [
    "## step 1: Text data cleanup\n",
    "\n",
    "Let's look at what the example data looks like. As it is visible there are a lot of elements that would cause the noise if they wouldn't be erased. "
   ]
  },
  {
   "cell_type": "code",
   "execution_count": 8,
   "id": "838e4656-9f52-41f2-b1e2-ad78bfde04af",
   "metadata": {},
   "outputs": [
    {
     "name": "stdout",
     "output_type": "stream",
     "text": [
      "2548\n",
      "From: walkup@cs.washington.edu (Elizabeth Walkup)\n",
      "Subject: Re: Menangitis question\n",
      "Organization: Computer Science & Engineering, U. of Washington, Seattle\n",
      "Distribution: na\n",
      "Lines: 19\n",
      "\n",
      "In article <19439@pitt.UUCP> geb@cs.pitt.edu (Gordon Banks) writes:\n",
      ">... the neiseria meningococcus is one of the most common\n",
      ">forms of meningitis.  It's the one that sometimes sweeps\n",
      ">schools or boot camp.  It is contagious and kills by attacking\n",
      ">the covering of the brain, causing the blood vessels to thrombose\n",
      ">and the brain to swell up.\n",
      ">\n",
      ">\t...\n",
      ">\n",
      ">It can live in the throat of carriers.  Don't worry, you won't get \n",
      ">it from them, especially if they took the medication.\n",
      "\n",
      "Assuming one has been cultured as having a throat laden with\n",
      "neiseria meningococcus and given (and taken) a course of ERYC \n",
      "without the culture becoming negative, should one worry about\n",
      "being a carrier?  \n",
      "\n",
      "-- Elizabeth\n",
      "   walkup@cs.washington.edu\n",
      "\n"
     ]
    }
   ],
   "source": [
    "# lets look how the emails looks like\n",
    "import random\n",
    "\n",
    "# randomly pick an example of an email and show it: \n",
    "\n",
    "email_no = random.randint(0, 11314)\n",
    "print(email_no)\n",
    "print(train_data.data[email_no])\n",
    "new_txt = train_data.data[email_no]"
   ]
  },
  {
   "cell_type": "markdown",
   "id": "4c79decc-9962-4bdf-8315-8e708157d8f5",
   "metadata": {},
   "source": [
    "## Remove header info\n",
    "\n",
    "There are some constant values that repeat in a huge number of message content. They are header elements like \"from: ....\", \"subject: ...\" etc. They also have no informative value and should be rejected. It can be conducted for example like that: "
   ]
  },
  {
   "cell_type": "code",
   "execution_count": 11,
   "id": "024bc57d-9a91-4293-b542-6848f06e765d",
   "metadata": {},
   "outputs": [],
   "source": [
    "email_text = new_txt\n",
    "\n",
    "# remove most common header components\n",
    "\n",
    "def is_header_tag_in(tags: tuple, txt: str): \n",
    "    # check if header tag is in sentence or not\n",
    "    for tag in tags:\n",
    "        if tag in txt.lower():\n",
    "            return True\n",
    "    return False\n",
    "\n",
    "header_tags = (\"from:\", \"subject:\", \"lines:\", \"organization:\", \"distribution\", \\\n",
    "               \"nntp-posting-host:\", \"reply-to:\", \"keywords:\", \"summary:\", \"re:\", \"expires:\", \n",
    "                  \"article-i.d.:\", \"newsreader:\")\n",
    "\n",
    "# clear all rows that start with word from header_tags tuple\n",
    "email_text = \" \".join([x for x in email_text.split(\"\\n\") \\\n",
    "                       if not is_header_tag_in(header_tags, x)]).\\\n",
    "                strip()"
   ]
  },
  {
   "cell_type": "code",
   "execution_count": 12,
   "id": "8e5f3fe9-40f2-4981-be9b-eb87c26c5b57",
   "metadata": {},
   "outputs": [
    {
     "data": {
      "text/plain": [
       "\"In article <19439@pitt.UUCP> geb@cs.pitt.edu (Gordon Banks) writes: >... the neiseria meningococcus is one of the most common >forms of meningitis.  It's the one that sometimes sweeps >schools or boot camp.  It is contagious and kills by attacking >the covering of the brain, causing the blood vessels to thrombose >and the brain to swell up. > >\\t... > >It can live in the throat of carriers.  Don't worry, you won't get  >it from them, especially if they took the medication.  Assuming one has been cultured as having a throat laden with neiseria meningococcus and given (and taken) a course of ERYC  without the culture becoming negative, should one worry about being a carrier?    -- Elizabeth    walkup@cs.washington.edu\""
      ]
     },
     "execution_count": 12,
     "metadata": {},
     "output_type": "execute_result"
    }
   ],
   "source": [
    "email_text"
   ]
  },
  {
   "cell_type": "markdown",
   "id": "b6272006-99be-4a5b-8e3c-00f9f5807831",
   "metadata": {},
   "source": [
    "## Email addresses inside the email content\n",
    "\n",
    "Such \"words\" contain no informative value so they can be removed. Some addresses can repeat in a few or more emails and then the model could treat them as useful information which of course it isn't. "
   ]
  },
  {
   "cell_type": "code",
   "execution_count": 13,
   "id": "36e3159a-cf46-4cb5-a990-0dffd418a63c",
   "metadata": {},
   "outputs": [
    {
     "data": {
      "text/plain": [
       "\"from: (elizabeth walkup)\\nsubject: re: menangitis question\\norganization: computer science & engineering, u. of washington, seattle\\ndistribution: na\\nlines: 19\\n\\nin article (gordon banks) writes:\\n>... the neiseria meningococcus is one of the most common\\n>forms of meningitis.  it's the one that sometimes sweeps\\n>schools or boot camp.  it is contagious and kills by attacking\\n>the covering of the brain, causing the blood vessels to thrombose\\n>and the brain to swell up.\\n>\\n>\\t...\\n>\\n>it can live in the throat of carriers.  don't worry, you won't get \\n>it from them, especially if they took the medication.\\n\\nassuming one has been cultured as having a throat laden with\\nneiseria meningococcus and given (and taken) a course of eryc \\nwithout the culture becoming negative, should one worry about\\nbeing a carrier?  \\n\\n-- elizabeth\\n   \""
      ]
     },
     "execution_count": 13,
     "metadata": {},
     "output_type": "execute_result"
    }
   ],
   "source": [
    "import re\n",
    "# [re.sub(\"<.*?>\", \"\", article) for article in articles]\n",
    "\n",
    "def clear_emails(txt: str):\n",
    "    return re.sub(r\"\\S*@\\S*\\s?\", \"\", txt)\n",
    "    \n",
    "cleaner_txt = clear_emails(new_txt).lower()\n",
    "cleaner_txt"
   ]
  },
  {
   "cell_type": "code",
   "execution_count": 14,
   "id": "fc3f467a-49ad-4c99-ad6e-9389097cbe02",
   "metadata": {},
   "outputs": [
    {
     "data": {
      "text/plain": [
       "\"from: (elizabeth walkup)\\nsubject: re: menangitis question\\norganization: computer science & engineering, u. of washington, seattle\\ndistribution: na\\nlines: \\nin article (gordon banks) writes:\\n>... the neiseria meningococcus is one of the most common\\n>forms of meningitis.  it's the one that sometimes sweeps\\n>schools or boot camp.  it is contagious and kills by attacking\\n>the covering of the brain, causing the blood vessels to thrombose\\n>and the brain to swell up.\\n>\\n>\\t...\\n>\\n>it can live in the throat of carriers.  don't worry, you won't get \\n>it from them, especially if they took the medication.\\n\\nassuming one has been cultured as having a throat laden with\\nneiseria meningococcus and given (and taken) a course of eryc \\nwithout the culture becoming negative, should one worry about\\nbeing a carrier?  \\n\\n-- elizabeth\\n   \""
      ]
     },
     "execution_count": 14,
     "metadata": {},
     "output_type": "execute_result"
    }
   ],
   "source": [
    "# remove digits\n",
    "\n",
    "def clear_txt_with_digits(txt: str): \n",
    "    return re.sub(r\"\\S*[0-9]+\\S*\\s?\", \"\", txt)\n",
    "\n",
    "cleaner_txt = clear_txt_with_digits(cleaner_txt)\n",
    "cleaner_txt"
   ]
  },
  {
   "cell_type": "markdown",
   "id": "23cb840c-9920-4303-9625-2d58db5244e7",
   "metadata": {},
   "source": [
    "## Add these substeps to the function"
   ]
  },
  {
   "cell_type": "code",
   "execution_count": 15,
   "id": "e0008409-ba9e-4b21-ad52-051140c207ec",
   "metadata": {},
   "outputs": [],
   "source": [
    "# remove most common header components\n",
    "\n",
    "def is_header_tag_in(tags: tuple, txt: str): \n",
    "    # check if header tag is in sentence or not\n",
    "    for tag in tags:\n",
    "        if tag in txt.lower():\n",
    "            return True\n",
    "    return False\n",
    "\n",
    "def clear_emails(txt: str):\n",
    "    return re.sub(r\"\\S*@\\S*\\s?\", \"\", txt)\n",
    "\n",
    "# create dict where keys are symbols from '!\"#$%&\\'()*+,-./:;<=>?@[\\\\]^_`{|}~'\n",
    "# with None as vlues\n",
    "table = str.maketrans({key: None for key in string.punctuation})\n",
    "\n",
    "def clean_email_content(email_text: str, table: dict = table): \n",
    "    \n",
    "    header_tags = (\"from:\", \"subject:\", \"lines:\", \"organization:\", \"distribution\", \\\n",
    "               \"nntp-posting-host:\", \"reply-to:\", \"keywords:\", \"summary:\", \"re:\", \"expires:\", \n",
    "                  \"article-i.d.:\", \"newsreader:\")\n",
    "    \n",
    "    # clear all rows that start with word from header_tags tuple\n",
    "    email_text = \" \".join([x for x in email_text.split(\"\\n\") \\\n",
    "                           if not is_header_tag_in(header_tags, x)]).\\\n",
    "                    strip()\n",
    "    \n",
    "    # remove e-mail addresses from content\n",
    "    # then change all character to lower case\n",
    "    email_text = clear_emails(email_text).lower()\n",
    "    \n",
    "    # clear words with digits inside\n",
    "    email_text = clear_txt_with_digits(email_text)\n",
    "    \n",
    "    # clean whiespaces except space\n",
    "    email_text = re.sub(r'[^\\S ]+', '', email_text)   \n",
    "    \n",
    "    # email_text = email_text.translate(table)\n",
    "    \n",
    "    return email_text"
   ]
  },
  {
   "cell_type": "code",
   "execution_count": 16,
   "id": "463fea19-d21d-4650-ad16-57094b5def26",
   "metadata": {},
   "outputs": [
    {
     "data": {
      "text/plain": [
       "\"in article (gordon banks) writes: >... the neiseria meningococcus is one of the most common >forms of meningitis.  it's the one that sometimes sweeps >schools or boot camp.  it is contagious and kills by attacking >the covering of the brain, causing the blood vessels to thrombose >and the brain to swell up. > >... > >it can live in the throat of carriers.  don't worry, you won't get  >it from them, especially if they took the medication.  assuming one has been cultured as having a throat laden with neiseria meningococcus and given (and taken) a course of eryc  without the culture becoming negative, should one worry about being a carrier?    -- elizabeth\""
      ]
     },
     "execution_count": 16,
     "metadata": {},
     "output_type": "execute_result"
    }
   ],
   "source": [
    "clean_email_content(cleaner_txt)"
   ]
  },
  {
   "cell_type": "code",
   "execution_count": null,
   "id": "2908cf55-1d02-4de6-bf8b-dca3dfd5dea6",
   "metadata": {},
   "outputs": [],
   "source": []
  }
 ],
 "metadata": {
  "kernelspec": {
   "display_name": "Python 3 (ipykernel)",
   "language": "python",
   "name": "python3"
  },
  "language_info": {
   "codemirror_mode": {
    "name": "ipython",
    "version": 3
   },
   "file_extension": ".py",
   "mimetype": "text/x-python",
   "name": "python",
   "nbconvert_exporter": "python",
   "pygments_lexer": "ipython3",
   "version": "3.10.12"
  }
 },
 "nbformat": 4,
 "nbformat_minor": 5
}
